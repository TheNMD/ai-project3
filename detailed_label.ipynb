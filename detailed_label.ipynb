{
 "cells": [
  {
   "cell_type": "code",
   "execution_count": 17,
   "metadata": {},
   "outputs": [],
   "source": [
    "import pyart\n",
    "import numpy as np\n",
    "import pandas as pd\n",
    "import matplotlib.pyplot as plt"
   ]
  },
  {
   "cell_type": "code",
   "execution_count": 18,
   "metadata": {},
   "outputs": [],
   "source": [
    "def calculate_avg_reflectivity(reflectivity):\n",
    "    # Calculate the percentage of each reflectivity value in each of 8 ranges\n",
    "    # Count the reflectivity value smaller than 30\n",
    "    reflectivity_smaller_than_0 = len([ele for ele in reflectivity if ele < 0]) / len(reflectivity)\n",
    "    reflectivity_0_to_5         = len([ele for ele in reflectivity if 0 <= ele < 5]) / len(reflectivity)\n",
    "    reflectivity_5_to_10        = len([ele for ele in reflectivity if 5 <= ele < 10]) / len(reflectivity)\n",
    "    reflectivity_10_to_15       = len([ele for ele in reflectivity if 10 <= ele < 15]) / len(reflectivity)\n",
    "    reflectivity_15_to_20       = len([ele for ele in reflectivity if 15 <= ele < 20]) / len(reflectivity)\n",
    "    reflectivity_20_to_25       = len([ele for ele in reflectivity if 20 <= ele < 25]) / len(reflectivity)\n",
    "    reflectivity_25_to_30       = len([ele for ele in reflectivity if 25 <= ele < 30]) / len(reflectivity)\n",
    "    reflectivity_30_to_35       = len([ele for ele in reflectivity if 30 <= ele < 35]) / len(reflectivity)\n",
    "    reflectivity_35_to_40       = len([ele for ele in reflectivity if 35 <= ele < 40]) / len(reflectivity)\n",
    "    reflectivity_40_to_45       = len([ele for ele in reflectivity if 40 <= ele < 45]) / len(reflectivity)\n",
    "    reflectivity_45_to_50       = len([ele for ele in reflectivity if 45 <= ele < 50]) / len(reflectivity)\n",
    "    reflectivity_50_to_55       = len([ele for ele in reflectivity if 50 <= ele < 55]) / len(reflectivity)\n",
    "    reflectivity_55_to_60       = len([ele for ele in reflectivity if 55 <= ele < 60]) / len(reflectivity)\n",
    "    reflectivity_bigger_than_60 = len([ele for ele in reflectivity if ele >= 60]) / len(reflectivity)\n",
    "    \n",
    "    weight_set = [pow(10, 100 * (1 - reflectivity_smaller_than_0)),\n",
    "                  pow(10, 100 * (1 - reflectivity_0_to_5)),\n",
    "                  pow(10, 100 * (1 - reflectivity_5_to_10)),\n",
    "                  pow(10, 100 * (1 - reflectivity_10_to_15)),\n",
    "                  pow(10, 100 * (1 - reflectivity_15_to_20)),\n",
    "                  pow(10, 100 * (1 - reflectivity_20_to_25)),\n",
    "                  pow(10, 100 * (1 - reflectivity_25_to_30)), \n",
    "                  pow(10, 100 * (1 - reflectivity_30_to_35)),\n",
    "                  pow(10, 100 * (1 - reflectivity_35_to_40)),\n",
    "                  pow(10, 100 * (1 - reflectivity_40_to_45)),\n",
    "                  pow(10, 100 * (1 - reflectivity_45_to_50)), \n",
    "                  pow(10, 100 * (1 - reflectivity_50_to_55)),\n",
    "                  pow(10, 100 * (1 - reflectivity_55_to_60)),\n",
    "                  pow(10, 100 * (1 - reflectivity_bigger_than_60))]\n",
    "\n",
    "    # print(weight_set)\n",
    "\n",
    "    weights = []\n",
    "    for ele in reflectivity:\n",
    "        if ele < 0:\n",
    "            weights += [weight_set[0]]\n",
    "        elif 0 <= ele < 5:\n",
    "            weights += [weight_set[1]]\n",
    "        elif 5 <= ele < 10:\n",
    "            weights += [weight_set[2]]\n",
    "        elif 10 <= ele < 15:\n",
    "            weights += [weight_set[3]]\n",
    "        elif 15 <= ele < 20:\n",
    "            weights += [weight_set[4]]\n",
    "        elif 20 <= ele < 25:\n",
    "            weights += [weight_set[5]]\n",
    "        elif 25 <= ele < 30:\n",
    "            weights += [weight_set[6]]\n",
    "        elif 30 <= ele < 35:\n",
    "            weights += [weight_set[7]]\n",
    "        elif 35 <= ele < 40:\n",
    "            weights += [weight_set[8]]\n",
    "        elif 40 <= ele < 45:\n",
    "            weights += [weight_set[9]]\n",
    "        elif 45 <= ele < 50:\n",
    "            weights += [weight_set[10]]\n",
    "        elif 50 <= ele < 55:\n",
    "            weights += [weight_set[11]]\n",
    "        elif 55 <= ele < 60:\n",
    "            weights += [weight_set[12]]\n",
    "        elif ele >= 60:\n",
    "            weights += [weight_set[13]]\n",
    "\n",
    "    avg_reflectivity = np.average(reflectivity, weights=weights)\n",
    "    if avg_reflectivity < 30:\n",
    "        label = \"clear\"\n",
    "    elif 30 <= avg_reflectivity < 40:\n",
    "        label = \"light_rain\"\n",
    "    elif 40 <= avg_reflectivity < 47.5:\n",
    "        label = \"moderate_rain\"\n",
    "    elif 47.5 <= avg_reflectivity < 55:\n",
    "        label = \"heavy_rain\"\n",
    "    elif avg_reflectivity >= 55:\n",
    "        label = \"very_heavy_rain\"\n",
    "        \n",
    "    return avg_reflectivity, label"
   ]
  },
  {
   "cell_type": "code",
   "execution_count": 19,
   "metadata": {},
   "outputs": [],
   "source": [
    "data = pyart.io.read_sigmet(\"./DatailedLabelSample/NHB230601000008.RAWLGZV\")\n",
    "data.fields['reflectivity']['data'] = data.fields['reflectivity']['data'].astype(np.float16)\n",
    "            \n",
    "grid_data = pyart.map.grid_from_radars(data,\n",
    "            grid_shape=(1, 500, 500),\n",
    "            grid_limits=((0, 1), (-250000, 250000), (-250000, 250000)),)"
   ]
  },
  {
   "cell_type": "code",
   "execution_count": 20,
   "metadata": {},
   "outputs": [],
   "source": [
    "longitude = data.longitude['data']\n",
    "latitude = data.latitude['data']"
   ]
  },
  {
   "cell_type": "code",
   "execution_count": 21,
   "metadata": {},
   "outputs": [
    {
     "name": "stdout",
     "output_type": "stream",
     "text": [
      "Longitude: [106.72833329]\n",
      "Latitude: [10.65961009]\n"
     ]
    }
   ],
   "source": [
    "# Print the longitude and latitude arrays\n",
    "print(\"Longitude:\", longitude)\n",
    "print(\"Latitude:\", latitude)"
   ]
  },
  {
   "cell_type": "code",
   "execution_count": 22,
   "metadata": {},
   "outputs": [
    {
     "name": "stdout",
     "output_type": "stream",
     "text": [
      "(3, 309, 500)\n"
     ]
    }
   ],
   "source": [
    "get_gate_arr = np.array(data.get_gate_lat_lon_alt(sweep=0))\n",
    "print(get_gate_arr.shape)\n",
    "latitude = get_gate_arr[0]\n",
    "longitude = get_gate_arr[1]\n",
    "altitude = get_gate_arr[2]"
   ]
  },
  {
   "cell_type": "code",
   "execution_count": 23,
   "metadata": {},
   "outputs": [
    {
     "name": "stdout",
     "output_type": "stream",
     "text": [
      "(309, 500)\n",
      "[[10.65961009 10.6650057  10.67040139 ... 13.33917143 13.34455654\n",
      "  13.34994222]\n",
      " [10.65961009 10.66500493 10.67039985 ... 13.33882639 13.34421076\n",
      "  13.34959485]\n",
      " [10.65961009 10.66500288 10.67039576 ... 13.33783064 13.34321283\n",
      "  13.34859598]\n",
      " ...\n",
      " [10.65961009 10.66499912 10.67038823 ... 13.33584089 13.34121897\n",
      "  13.34659755]\n",
      " [10.65961009 10.66500278 10.67039555 ... 13.33770305 13.3430853\n",
      "  13.34846786]\n",
      " [10.65961009 10.66500508 10.67040017 ... 13.33886371 13.34424838\n",
      "  13.34963344]]\n"
     ]
    }
   ],
   "source": [
    "print(latitude.shape)\n",
    "print(latitude)"
   ]
  },
  {
   "cell_type": "code",
   "execution_count": 24,
   "metadata": {},
   "outputs": [
    {
     "name": "stdout",
     "output_type": "stream",
     "text": [
      "(309, 500)\n",
      "[[106.72833329 106.72836724 106.7284012  ... 106.74535677 106.74539133\n",
      "  106.7454259 ]\n",
      " [106.72833329 106.7284333  106.72853331 ... 106.77847841 106.77858023\n",
      "  106.77868206]\n",
      " [106.72833329 106.72851513 106.72869697 ... 106.81950762 106.81969275\n",
      "  106.81987792]\n",
      " ...\n",
      " [106.72833329 106.72806047 106.72778764 ... 106.59154492 106.59126716\n",
      "  106.5909894 ]\n",
      " [106.72833329 106.72814961 106.72796593 ... 106.63623904 106.63605206\n",
      "  106.63586505]\n",
      " [106.72833329 106.72824381 106.72815432 ... 106.68346682 106.68337573\n",
      "  106.68328461]]\n"
     ]
    }
   ],
   "source": [
    "print(longitude.shape)\n",
    "print(longitude)"
   ]
  },
  {
   "cell_type": "code",
   "execution_count": 25,
   "metadata": {},
   "outputs": [
    {
     "name": "stdout",
     "output_type": "stream",
     "text": [
      "(309, 500)\n",
      "[[  10.   15.   21. ... 8199. 8226. 8253.]\n",
      " [  10.   15.   21. ... 8070. 8097. 8124.]\n",
      " [  10.   15.   20. ... 7970. 7997. 8023.]\n",
      " ...\n",
      " [  10.   15.   22. ... 8298. 8326. 8353.]\n",
      " [  10.   15.   21. ... 8213. 8240. 8267.]\n",
      " [  10.   15.   21. ... 8199. 8226. 8253.]]\n"
     ]
    }
   ],
   "source": [
    "print(altitude.shape)\n",
    "print(altitude)"
   ]
  }
 ],
 "metadata": {
  "kernelspec": {
   "display_name": "radaric",
   "language": "python",
   "name": "python3"
  },
  "language_info": {
   "codemirror_mode": {
    "name": "ipython",
    "version": 3
   },
   "file_extension": ".py",
   "mimetype": "text/x-python",
   "name": "python",
   "nbconvert_exporter": "python",
   "pygments_lexer": "ipython3",
   "version": "3.10.14"
  }
 },
 "nbformat": 4,
 "nbformat_minor": 2
}
